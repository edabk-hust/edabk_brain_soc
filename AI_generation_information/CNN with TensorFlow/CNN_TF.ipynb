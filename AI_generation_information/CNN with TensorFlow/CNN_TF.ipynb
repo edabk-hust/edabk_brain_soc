{
  "nbformat": 4,
  "nbformat_minor": 0,
  "metadata": {
    "colab": {
      "provenance": []
    },
    "kernelspec": {
      "name": "python3",
      "display_name": "Python 3"
    },
    "language_info": {
      "name": "python"
    },
    "accelerator": "TPU"
  },
  "cells": [
    {
      "cell_type": "code",
      "execution_count": 2,
      "metadata": {
        "colab": {
          "base_uri": "https://localhost:8080/"
        },
        "id": "H5iU3CvOetJA",
        "outputId": "af6dff5c-303a-43e7-eca0-9092910876a3"
      },
      "outputs": [
        {
          "output_type": "stream",
          "name": "stdout",
          "text": [
            "Epoch 1/30\n",
            "1875/1875 [==============================] - 22s 11ms/step - loss: 0.6468 - accuracy: 0.8006\n",
            "Epoch 2/30\n",
            "1875/1875 [==============================] - 19s 10ms/step - loss: 0.2487 - accuracy: 0.9228\n",
            "Epoch 3/30\n",
            "1875/1875 [==============================] - 19s 10ms/step - loss: 0.1966 - accuracy: 0.9395\n",
            "Epoch 4/30\n",
            "1875/1875 [==============================] - 21s 11ms/step - loss: 0.1705 - accuracy: 0.9469\n",
            "Epoch 5/30\n",
            "1875/1875 [==============================] - 19s 10ms/step - loss: 0.1545 - accuracy: 0.9513\n",
            "Epoch 6/30\n",
            "1875/1875 [==============================] - 20s 11ms/step - loss: 0.1442 - accuracy: 0.9548\n",
            "Epoch 7/30\n",
            "1875/1875 [==============================] - 20s 11ms/step - loss: 0.1367 - accuracy: 0.9572\n",
            "Epoch 8/30\n",
            "1875/1875 [==============================] - 19s 10ms/step - loss: 0.1307 - accuracy: 0.9589\n",
            "Epoch 9/30\n",
            "1875/1875 [==============================] - 21s 11ms/step - loss: 0.1260 - accuracy: 0.9606\n",
            "Epoch 10/30\n",
            "1875/1875 [==============================] - 19s 10ms/step - loss: 0.1226 - accuracy: 0.9618\n",
            "Epoch 11/30\n",
            "1875/1875 [==============================] - 19s 10ms/step - loss: 0.1191 - accuracy: 0.9632\n",
            "Epoch 12/30\n",
            "1875/1875 [==============================] - 21s 11ms/step - loss: 0.1165 - accuracy: 0.9638\n",
            "Epoch 13/30\n",
            "1875/1875 [==============================] - 22s 12ms/step - loss: 0.1142 - accuracy: 0.9647\n",
            "Epoch 14/30\n",
            "1875/1875 [==============================] - 20s 11ms/step - loss: 0.1123 - accuracy: 0.9649\n",
            "Epoch 15/30\n",
            "1875/1875 [==============================] - 20s 11ms/step - loss: 0.1099 - accuracy: 0.9654\n",
            "Epoch 16/30\n",
            "1875/1875 [==============================] - 19s 10ms/step - loss: 0.1089 - accuracy: 0.9658\n",
            "Epoch 17/30\n",
            "1875/1875 [==============================] - 21s 11ms/step - loss: 0.1076 - accuracy: 0.9660\n",
            "Epoch 18/30\n",
            "1875/1875 [==============================] - 19s 10ms/step - loss: 0.1072 - accuracy: 0.9662\n",
            "Epoch 19/30\n",
            "1875/1875 [==============================] - 19s 10ms/step - loss: 0.1058 - accuracy: 0.9664\n",
            "Epoch 20/30\n",
            "1875/1875 [==============================] - 21s 11ms/step - loss: 0.1048 - accuracy: 0.9671\n",
            "Epoch 21/30\n",
            "1875/1875 [==============================] - 20s 10ms/step - loss: 0.1044 - accuracy: 0.9673\n",
            "Epoch 22/30\n",
            "1875/1875 [==============================] - 20s 11ms/step - loss: 0.1036 - accuracy: 0.9676\n",
            "Epoch 23/30\n",
            "1875/1875 [==============================] - 20s 10ms/step - loss: 0.1022 - accuracy: 0.9679\n",
            "Epoch 24/30\n",
            "1875/1875 [==============================] - 19s 10ms/step - loss: 0.1014 - accuracy: 0.9683\n",
            "Epoch 25/30\n",
            "1875/1875 [==============================] - 21s 11ms/step - loss: 0.1011 - accuracy: 0.9685\n",
            "Epoch 26/30\n",
            "1875/1875 [==============================] - 19s 10ms/step - loss: 0.1003 - accuracy: 0.9682\n",
            "Epoch 27/30\n",
            "1875/1875 [==============================] - 20s 10ms/step - loss: 0.0997 - accuracy: 0.9687\n",
            "Epoch 28/30\n",
            "1875/1875 [==============================] - 21s 11ms/step - loss: 0.0997 - accuracy: 0.9691\n",
            "Epoch 29/30\n",
            "1875/1875 [==============================] - 19s 10ms/step - loss: 0.0988 - accuracy: 0.9694\n",
            "Epoch 30/30\n",
            "1875/1875 [==============================] - 21s 11ms/step - loss: 0.0979 - accuracy: 0.9688\n",
            "313/313 - 2s - loss: 0.0975 - accuracy: 0.9687 - 2s/epoch - 6ms/step\n"
          ]
        }
      ],
      "source": [
        "from tensorflow.keras.utils import to_categorical\n",
        "import numpy as np\n",
        "import tensorflow as tf\n",
        "from tensorflow.keras.datasets import mnist\n",
        "from tensorflow.keras import layers, models\n",
        "\n",
        "\n",
        "## Load dataset\n",
        "(train_images, train_labels), (test_images, test_labels) = mnist.load_data()\n",
        "\n",
        "# Reshape and normalize images\n",
        "train_images = train_images.reshape((60000, 28, 28, 1))\n",
        "train_images = train_images.astype('float16') / 255\n",
        "\n",
        "test_images = test_images.reshape((10000, 28, 28, 1))\n",
        "test_images = test_images.astype('float16') / 255\n",
        "\n",
        "# One-hot encode labels (keep this as float32 for stability in the loss calculations)\n",
        "train_labels = to_categorical(train_labels, dtype='float32')\n",
        "test_labels = to_categorical(test_labels, dtype='float32')\n",
        "\n",
        "\n",
        "model = models.Sequential()\n",
        "model.add(layers.Conv2D(4, (3, 3), activation='relu', input_shape=(28, 28, 1)))\n",
        "model.add(layers.MaxPooling2D((4, 4)))\n",
        "model.add(layers.Conv2D(8, (3, 3), activation='relu'))\n",
        "model.add(layers.MaxPooling2D((2, 2)))\n",
        "model.add(layers.Flatten())\n",
        "model.add(layers.Dense(10, dtype='float32'))  # Ensure that the final layer has float32 dtype\n",
        "\n",
        "model.compile(optimizer='adam',\n",
        "              loss=tf.keras.losses.CategoricalCrossentropy(from_logits=True),\n",
        "              metrics=['accuracy'])\n",
        "\n",
        "# Train the CNN model\n",
        "model.fit(train_images, train_labels, epochs=30)\n",
        "\n",
        "# Evaluate the model\n",
        "test_loss, test_acc = model.evaluate(test_images, test_labels, verbose=2)\n"
      ]
    },
    {
      "cell_type": "code",
      "source": [
        "model.summary()"
      ],
      "metadata": {
        "colab": {
          "base_uri": "https://localhost:8080/"
        },
        "id": "aAsAn_QDkQjb",
        "outputId": "12cd873f-fcfc-4d86-9b98-1212877cd8d7"
      },
      "execution_count": 3,
      "outputs": [
        {
          "output_type": "stream",
          "name": "stdout",
          "text": [
            "Model: \"sequential\"\n",
            "_________________________________________________________________\n",
            " Layer (type)                Output Shape              Param #   \n",
            "=================================================================\n",
            " conv2d (Conv2D)             (None, 26, 26, 4)         40        \n",
            "                                                                 \n",
            " max_pooling2d (MaxPooling2D  (None, 6, 6, 4)          0         \n",
            " )                                                               \n",
            "                                                                 \n",
            " conv2d_1 (Conv2D)           (None, 4, 4, 8)           296       \n",
            "                                                                 \n",
            " max_pooling2d_1 (MaxPooling  (None, 2, 2, 8)          0         \n",
            " 2D)                                                             \n",
            "                                                                 \n",
            " flatten (Flatten)           (None, 32)                0         \n",
            "                                                                 \n",
            " dense (Dense)               (None, 10)                330       \n",
            "                                                                 \n",
            "=================================================================\n",
            "Total params: 666\n",
            "Trainable params: 666\n",
            "Non-trainable params: 0\n",
            "_________________________________________________________________\n"
          ]
        }
      ]
    },
    {
      "cell_type": "code",
      "source": [
        "layer_weights = []\n",
        "layer_biases = []\n",
        "\n",
        "for layer in model.layers:\n",
        "    weights = layer.get_weights()\n",
        "\n",
        "    # Check if the layer has weights and biases\n",
        "    if len(weights) > 0:\n",
        "        # Convert to float16\n",
        "        w = weights[0].astype(np.float16)\n",
        "        b = weights[1].astype(np.float16)\n",
        "\n",
        "        layer_weights.append(w)\n",
        "        layer_biases.append(b)\n",
        "    else:\n",
        "        # Append None for layers without weights/biases, e.g., MaxPooling layers\n",
        "        layer_weights.append(None)\n",
        "        layer_biases.append(None)\n",
        "\n",
        "for idx, (weight, bias) in enumerate(zip(layer_weights, layer_biases)):\n",
        "  if weight is not None:\n",
        "      np.save(f'layer_{idx}_weights.npy', weight)\n",
        "  if bias is not None:\n",
        "      np.save(f'layer_{idx}_biases.npy', bias)\n",
        "\n",
        "for idx, (weight, bias) in enumerate(zip(layer_weights, layer_biases)):\n",
        "    if weight is not None:\n",
        "        weight.tofile(f'layer_{idx}_weights.bin')\n",
        "    if bias is not None:\n",
        "        bias.tofile(f'layer_{idx}_biases.bin')\n",
        "\n"
      ],
      "metadata": {
        "id": "dB6OcyI1uIBE"
      },
      "execution_count": 4,
      "outputs": []
    }
  ]
}